{
 "cells": [
  {
   "cell_type": "code",
   "execution_count": 1,
   "metadata": {},
   "outputs": [],
   "source": [
    "import numpy as np\n",
    "\n",
    "def sieve(x):\n",
    "    primes_mask = [1 for i in range(x)]\n",
    "    for val in range(2,int(np.floor(x**0.5))):\n",
    "        mult = 2\n",
    "        while val * mult < x:\n",
    "            primes_mask[mult*val] = 0\n",
    "            mult += 1\n",
    "    return primes_mask\n",
    "\n",
    "def mask_to_list(mask):\n",
    "    list_out = []\n",
    "    position = 0\n",
    "    for val in mask:\n",
    "        if val == 1:\n",
    "            list_out.append(position)\n",
    "        position += 1\n",
    "    return list_out  "
   ]
  },
  {
   "cell_type": "code",
   "execution_count": 5,
   "metadata": {},
   "outputs": [
    {
     "data": {
      "text/plain": [
       "142913828922"
      ]
     },
     "execution_count": 5,
     "metadata": {},
     "output_type": "execute_result"
    }
   ],
   "source": [
    "sum(mask_to_list(sieve(2000000))[2:])"
   ]
  },
  {
   "cell_type": "code",
   "execution_count": null,
   "metadata": {},
   "outputs": [],
   "source": []
  }
 ],
 "metadata": {
  "kernelspec": {
   "display_name": "Python 3",
   "language": "python",
   "name": "python3"
  },
  "language_info": {
   "codemirror_mode": {
    "name": "ipython",
    "version": 3
   },
   "file_extension": ".py",
   "mimetype": "text/x-python",
   "name": "python",
   "nbconvert_exporter": "python",
   "pygments_lexer": "ipython3",
   "version": "3.7.3"
  }
 },
 "nbformat": 4,
 "nbformat_minor": 2
}
