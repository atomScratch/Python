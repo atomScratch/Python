{
 "cells": [
  {
   "cell_type": "code",
   "execution_count": 60,
   "metadata": {},
   "outputs": [],
   "source": [
    "import numpy as np\n",
    "\n",
    "def get_factors(x):\n",
    "    potential_factors = list(range(1,x+1))\n",
    "    for val in list(potential_factors):\n",
    "        if x % val != 0:\n",
    "            mult = 1\n",
    "            while mult * val < x:\n",
    "                if mult * val in potential_factors:\n",
    "                    potential_factors.remove(mult*val)\n",
    "                mult += 1\n",
    "    return(potential_factors)"
   ]
  },
  {
   "cell_type": "code",
   "execution_count": 61,
   "metadata": {},
   "outputs": [],
   "source": [
    "def get_factors_mk2(x):\n",
    "    factors_mask = [1 for a in range(x+1)]\n",
    "    for val in range(1,x+1):\n",
    "        if x % val != 0:\n",
    "            mult = 1\n",
    "            while mult * val < x:\n",
    "                factors_mask[val * mult] = 0 \n",
    "                mult += 1\n",
    "    return factors_mask"
   ]
  },
  {
   "cell_type": "code",
   "execution_count": 62,
   "metadata": {},
   "outputs": [],
   "source": [
    "def triangle_number_generator(x):\n",
    "    return sum(list(range(1,x)))"
   ]
  },
  {
   "cell_type": "code",
   "execution_count": 63,
   "metadata": {},
   "outputs": [],
   "source": [
    "def mask_to_list(mask):\n",
    "    list_out = []\n",
    "    position = 0\n",
    "    for val in mask:\n",
    "        if val == 1:\n",
    "            list_out.append(position)\n",
    "        position += 1\n",
    "    return list_out  "
   ]
  },
  {
   "cell_type": "code",
   "execution_count": 65,
   "metadata": {},
   "outputs": [
    {
     "name": "stdout",
     "output_type": "stream",
     "text": [
      "[0, 1, 2, 3, 4, 6, 8, 11, 12, 16, 22, 24, 33, 44, 48, 66, 88, 132, 176, 264, 528]\n"
     ]
    }
   ],
   "source": [
    "factors_count = 1\n",
    "active_triangle = 1\n",
    "while factors_count < 500:\n",
    "    active_triangle += 1\n",
    "    if len(get_factors_mk2(triangle_number_generator(active_triangle))) > factors_count:\n",
    "        factors_count = len(get_factors_mk2(triangle_number_generator(active_triangle)))\n",
    "    \n",
    "print(mask_to_list(get_factors_mk2(triangle_number_generator(active_triangle))))\n",
    "    "
   ]
  },
  {
   "cell_type": "code",
   "execution_count": null,
   "metadata": {},
   "outputs": [],
   "source": []
  }
 ],
 "metadata": {
  "kernelspec": {
   "display_name": "Python 3",
   "language": "python",
   "name": "python3"
  },
  "language_info": {
   "codemirror_mode": {
    "name": "ipython",
    "version": 3
   },
   "file_extension": ".py",
   "mimetype": "text/x-python",
   "name": "python",
   "nbconvert_exporter": "python",
   "pygments_lexer": "ipython3",
   "version": "3.7.3"
  }
 },
 "nbformat": 4,
 "nbformat_minor": 2
}
