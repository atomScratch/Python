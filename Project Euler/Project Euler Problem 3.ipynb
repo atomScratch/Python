{
 "cells": [
  {
   "cell_type": "code",
   "execution_count": 1,
   "metadata": {},
   "outputs": [],
   "source": [
    "import numpy as np\n",
    "\n",
    "def sieve(x):\n",
    "    primes_mask = [1 for i in range(int(np.floor(x**0.5)))]\n",
    "    for val in range(2,int(np.floor(x**0.5))):\n",
    "        mult = 2\n",
    "        while val * mult < int(np.floor(x**0.5)):\n",
    "            primes_mask[mult*val] = 0\n",
    "            mult += 1\n",
    "    return primes_mask"
   ]
  },
  {
   "cell_type": "code",
   "execution_count": 2,
   "metadata": {},
   "outputs": [],
   "source": [
    "def mask_to_list(mask):\n",
    "    list_out = []\n",
    "    position = 0\n",
    "    for val in mask:\n",
    "        if val == 1:\n",
    "            list_out.append(position)\n",
    "        position += 1\n",
    "    return list_out            "
   ]
  },
  {
   "cell_type": "code",
   "execution_count": 3,
   "metadata": {},
   "outputs": [
    {
     "data": {
      "text/plain": [
       "[2, 3, 5, 7]"
      ]
     },
     "execution_count": 3,
     "metadata": {},
     "output_type": "execute_result"
    }
   ],
   "source": [
    "mask_to_list(sieve(99))[2:]"
   ]
  },
  {
   "cell_type": "code",
   "execution_count": 4,
   "metadata": {},
   "outputs": [],
   "source": [
    "def find_prime_factors(x):\n",
    "    potential_factors = mask_to_list(sieve(x))[2:]\n",
    "    factors = []\n",
    "    for val in potential_factors:\n",
    "        if (x / val)%1 == 0:\n",
    "            factors.append(val)\n",
    "    return(factors)"
   ]
  },
  {
   "cell_type": "code",
   "execution_count": 5,
   "metadata": {},
   "outputs": [
    {
     "data": {
      "text/plain": [
       "[71, 839, 1471, 6857]"
      ]
     },
     "execution_count": 5,
     "metadata": {},
     "output_type": "execute_result"
    }
   ],
   "source": [
    "find_prime_factors(600851475143)"
   ]
  },
  {
   "cell_type": "code",
   "execution_count": null,
   "metadata": {},
   "outputs": [],
   "source": []
  }
 ],
 "metadata": {
  "kernelspec": {
   "display_name": "Python 3",
   "language": "python",
   "name": "python3"
  },
  "language_info": {
   "codemirror_mode": {
    "name": "ipython",
    "version": 3
   },
   "file_extension": ".py",
   "mimetype": "text/x-python",
   "name": "python",
   "nbconvert_exporter": "python",
   "pygments_lexer": "ipython3",
   "version": "3.7.3"
  }
 },
 "nbformat": 4,
 "nbformat_minor": 2
}
