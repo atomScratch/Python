{
 "cells": [
  {
   "cell_type": "code",
   "execution_count": 117,
   "metadata": {},
   "outputs": [],
   "source": [
    "import sklearn\n",
    "import sklearn.datasets\n",
    "import seaborn as sns\n",
    "import numpy as np\n",
    "from sklearn.svm import SVC\n",
    "from sklearn.utils import shuffle\n",
    "from sklearn.ensemble import RandomForestClassifier\n",
    "\n",
    "sp = 120 # Split point\n",
    "\n",
    "irisSet = sklearn.datasets.load_iris()\n",
    "\n",
    "irisX, irisY = shuffle(irisSet.data, (irisSet.target - 1))\n",
    "\n",
    "trainingX = irisX[:sp]\n",
    "testX = irisX[sp:]\n",
    "\n",
    "trainingY = irisY[:sp]\n",
    "testY = irisY[sp:]"
   ]
  },
  {
   "cell_type": "code",
   "execution_count": 118,
   "metadata": {},
   "outputs": [],
   "source": [
    "myLinearSVC = SVC()\n",
    "\n",
    "myLinearSVC.fit(trainingX, trainingY)\n",
    "\n",
    "svcPredict = myLinearSVC.predict(testX)"
   ]
  },
  {
   "cell_type": "code",
   "execution_count": 119,
   "metadata": {},
   "outputs": [],
   "source": [
    "myForest = RandomForestClassifier()\n",
    "myForest.fit(trainingX,trainingY)\n",
    "forestPredict = myForest.predict(testX)"
   ]
  },
  {
   "cell_type": "code",
   "execution_count": 120,
   "metadata": {},
   "outputs": [
    {
     "data": {
      "text/plain": [
       "array([ 0,  1,  1, -1, -1, -1,  0,  1,  1, -1, -1,  0,  0,  1,  0, -1, -1,\n",
       "        0,  0,  0, -1,  0, -1, -1,  0, -1,  1,  0, -1, -1])"
      ]
     },
     "execution_count": 120,
     "metadata": {},
     "output_type": "execute_result"
    }
   ],
   "source": [
    "forestPredict"
   ]
  },
  {
   "cell_type": "code",
   "execution_count": 121,
   "metadata": {},
   "outputs": [
    {
     "name": "stdout",
     "output_type": "stream",
     "text": [
      "The percent accuracy of SVC is: 0.9333333333333333\n",
      "The percent accuracy of Linear is: 0.9666666666666667\n",
      "The percent accuracy of Forest is: 0.9333333333333333\n"
     ]
    }
   ],
   "source": [
    "myLinear = sklearn.linear_model.LinearRegression()\n",
    "myLinear.fit(trainingX, trainingY)\n",
    "linearPredict = np.round(myLinear.predict(testX))\n",
    "\n",
    "print(\"The percent accuracy of SVC is: \" + str(np.sum(svcPredict == testY) / len(testY)))\n",
    "\n",
    "print(\"The percent accuracy of Linear is: \" + str(np.sum(linearPredict == testY) / len(testY)))\n",
    "\n",
    "print(\"The percent accuracy of Forest is: \" + str(np.sum(forestPredict == testY) / len(testY)))\n"
   ]
  },
  {
   "cell_type": "code",
   "execution_count": 129,
   "metadata": {},
   "outputs": [
    {
     "name": "stdout",
     "output_type": "stream",
     "text": [
      "621\n",
      "833\n",
      "336\n",
      "328\n"
     ]
    }
   ],
   "source": [
    "from sklearn.linear_model import LogisticRegression\n",
    "\n",
    "linearSucc = 0\n",
    "svcSucc = 0\n",
    "forestSucc = 0\n",
    "logSucc = 0\n",
    "\n",
    "for x in range(1000):\n",
    "    irisX, irisY = shuffle(irisSet.data, irisSet.target)\n",
    "\n",
    "    trainingX = irisX[:sp]\n",
    "    testX = irisX[sp:]\n",
    "\n",
    "    trainingY = irisY[:sp]\n",
    "    testY = irisY[sp:]\n",
    "    \n",
    "    myLinearSVC.fit(trainingX, trainingY)\n",
    "    svcPredict = myLinearSVC.predict(testX)\n",
    "    \n",
    "    myLinear.fit(trainingX, trainingY)\n",
    "    linearPredict = np.round(myLinear.predict(testX))\n",
    "    \n",
    "    myForest = RandomForestClassifier()\n",
    "    myForest.fit(trainingX,trainingY)\n",
    "    forestPredict = myForest.predict(testX)\n",
    "    \n",
    "    myLog = LogisticRegression()\n",
    "    myLog.fit(trainingX,trainingY)\n",
    "    logPredict = myLog.predict(testX)\n",
    "    \n",
    "    linearAcc = np.sum(linearPredict == testY) / len(testY)\n",
    "    svcAcc = np.sum(svcPredict == testY) / len(testY)\n",
    "    forestAcc = np.sum(forestPredict == testY) / len(testY)\n",
    "    logAcc = np.sum(logPredict == testY) / len(testY)\n",
    "    \n",
    "    maxAcc = max(linearAcc,svcAcc,forestAcc)\n",
    "    \n",
    "    if(maxAcc == linearAcc):\n",
    "        linearSucc += 1\n",
    "    if(maxAcc == svcAcc):\n",
    "        svcSucc += 1\n",
    "    if(maxAcc == forestAcc):\n",
    "        forestSucc += 1\n",
    "    if(maxAcc == logAcc):\n",
    "        logSucc += 1\n",
    "        \n",
    "        \n",
    "print(linearSucc)\n",
    "print(svcSucc)\n",
    "print(forestSucc)\n",
    "print(logSucc)\n",
    "        \n",
    "    "
   ]
  },
  {
   "cell_type": "code",
   "execution_count": null,
   "metadata": {},
   "outputs": [],
   "source": []
  },
  {
   "cell_type": "code",
   "execution_count": null,
   "metadata": {},
   "outputs": [],
   "source": []
  }
 ],
 "metadata": {
  "kernelspec": {
   "display_name": "Python 3",
   "language": "python",
   "name": "python3"
  },
  "language_info": {
   "codemirror_mode": {
    "name": "ipython",
    "version": 3
   },
   "file_extension": ".py",
   "mimetype": "text/x-python",
   "name": "python",
   "nbconvert_exporter": "python",
   "pygments_lexer": "ipython3",
   "version": "3.6.6"
  }
 },
 "nbformat": 4,
 "nbformat_minor": 2
}
