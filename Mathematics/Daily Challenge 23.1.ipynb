{
 "cells": [
  {
   "cell_type": "code",
   "execution_count": 8,
   "metadata": {},
   "outputs": [
    {
     "name": "stdout",
     "output_type": "stream",
     "text": [
      "2.5110765262090964\n"
     ]
    }
   ],
   "source": [
    "import math\n",
    "import numpy as np\n",
    "current = 1\n",
    "previous = 0\n",
    "epsilon = 0.001\n",
    "for x in range(1,1000):\n",
    "    if (-1* epsilon < current - previous < epsilon):\n",
    "        break\n",
    "    previous = current\n",
    "    current = ((math.factorial(x))/ (math.pow(x,x) * math.sqrt(x) * math.exp(-x)))\n",
    "print(current)"
   ]
  }
 ],
 "metadata": {
  "kernelspec": {
   "display_name": "Python 3",
   "language": "python",
   "name": "python3"
  },
  "language_info": {
   "codemirror_mode": {
    "name": "ipython",
    "version": 3
   },
   "file_extension": ".py",
   "mimetype": "text/x-python",
   "name": "python",
   "nbconvert_exporter": "python",
   "pygments_lexer": "ipython3",
   "version": "3.6.6"
  }
 },
 "nbformat": 4,
 "nbformat_minor": 2
}
