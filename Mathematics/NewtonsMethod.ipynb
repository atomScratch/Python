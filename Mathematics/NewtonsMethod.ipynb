{
 "cells": [
  {
   "cell_type": "code",
   "execution_count": 8,
   "metadata": {},
   "outputs": [
    {
     "data": {
      "text/plain": [
       "-0.41579306045059916"
      ]
     },
     "execution_count": 8,
     "metadata": {},
     "output_type": "execute_result"
    }
   ],
   "source": [
    "import numpy as np\n",
    "\n",
    "# Begin creating the test function\n",
    "def testFunction(x):\n",
    "    return np.sin(x)\n",
    "\n",
    "# Begin creating the derivative finding function\n",
    "def getDerivative(func,value,eAcc=3):\n",
    "    x1 = value - (1/(10^eAcc))\n",
    "    x2 = value + (1/(10^eAcc))\n",
    "    \n",
    "    return((func(x2) - func(x1)) / (x2 - x1))\n",
    "\n",
    "# Testing the derivative finding function\n",
    "getDerivative(testFunction, 2, 4)\n",
    "        "
   ]
  },
  {
   "cell_type": "code",
   "execution_count": 9,
   "metadata": {},
   "outputs": [],
   "source": [
    "# Begin creating a Python form of Newton's Method.\n",
    "def newton(func, currentX, closeness=0.1):\n",
    "    iterations = 0\n",
    "    while(not (-closeness < func(currentX) and func(currentX) < closeness)):\n",
    "        if iterations > 100:\n",
    "            return False\n",
    "        currentX = currentX - (func(currentX)/ getDerivative(func, currentX, 4))\n",
    "        iterations += 1\n",
    "    return currentX, iterations"
   ]
  },
  {
   "cell_type": "code",
   "execution_count": 12,
   "metadata": {},
   "outputs": [
    {
     "data": {
      "text/plain": [
       "(3.1415841543815772, 3)"
      ]
     },
     "execution_count": 12,
     "metadata": {},
     "output_type": "execute_result"
    }
   ],
   "source": [
    "newton(testFunction,4,0.001)"
   ]
  },
  {
   "cell_type": "code",
   "execution_count": null,
   "metadata": {},
   "outputs": [],
   "source": []
  }
 ],
 "metadata": {
  "kernelspec": {
   "display_name": "Python 3",
   "language": "python",
   "name": "python3"
  },
  "language_info": {
   "codemirror_mode": {
    "name": "ipython",
    "version": 3
   },
   "file_extension": ".py",
   "mimetype": "text/x-python",
   "name": "python",
   "nbconvert_exporter": "python",
   "pygments_lexer": "ipython3",
   "version": "3.6.6"
  }
 },
 "nbformat": 4,
 "nbformat_minor": 2
}
