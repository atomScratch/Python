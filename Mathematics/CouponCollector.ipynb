{
 "cells": [
  {
   "cell_type": "code",
   "execution_count": 32,
   "metadata": {},
   "outputs": [],
   "source": [
    "import numpy as np\n",
    "import random\n",
    "\n",
    "def single_trial(n):\n",
    "    coupon_list = []\n",
    "    days = 0\n",
    "    while len(coupon_list) < n:\n",
    "        coupon_received = np.random.randint(1,n+1)\n",
    "        if coupon_received not in coupon_list:\n",
    "            coupon_list.append(coupon_received)\n",
    "        days += 1\n",
    "    return days\n",
    "        \n",
    "\n",
    "\n"
   ]
  },
  {
   "cell_type": "code",
   "execution_count": 34,
   "metadata": {},
   "outputs": [],
   "source": [
    "def coupon_collector(n,trials = 10000):\n",
    "    times_list = []\n",
    "    for trial in range(trials):\n",
    "        times_list.append(single_trial(n))\n",
    "    return np.mean(times_list)\n",
    "        "
   ]
  },
  {
   "cell_type": "code",
   "execution_count": 36,
   "metadata": {},
   "outputs": [
    {
     "data": {
      "text/plain": [
       "225.23140000000001"
      ]
     },
     "execution_count": 36,
     "metadata": {},
     "output_type": "execute_result"
    }
   ],
   "source": [
    "coupon_collector(50)"
   ]
  },
  {
   "cell_type": "raw",
   "metadata": {},
   "source": []
  }
 ],
 "metadata": {
  "kernelspec": {
   "display_name": "Python 3",
   "language": "python",
   "name": "python3"
  },
  "language_info": {
   "codemirror_mode": {
    "name": "ipython",
    "version": 3
   },
   "file_extension": ".py",
   "mimetype": "text/x-python",
   "name": "python",
   "nbconvert_exporter": "python",
   "pygments_lexer": "ipython3",
   "version": "3.6.6"
  }
 },
 "nbformat": 4,
 "nbformat_minor": 2
}
